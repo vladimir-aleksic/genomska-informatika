{
 "cells": [
  {
   "cell_type": "code",
   "execution_count": 1,
   "metadata": {},
   "outputs": [],
   "source": [
    "import pysam"
   ]
  },
  {
   "cell_type": "code",
   "execution_count": 2,
   "metadata": {},
   "outputs": [],
   "source": [
    "# Create an alignment file object for \"merged-tumor.bam\"\n",
    "alignmentFile = pysam.AlignmentFile(\"merged-tumor.bam\")"
   ]
  },
  {
   "cell_type": "code",
   "execution_count": 13,
   "metadata": {},
   "outputs": [],
   "source": [
    "# Take the first read\n",
    "firstRead = next(alignmentFile.fetch())"
   ]
  },
  {
   "cell_type": "code",
   "execution_count": 14,
   "metadata": {},
   "outputs": [
    {
     "name": "stdout",
     "output_type": "stream",
     "text": [
      "C0HVYACXX120402:7:1207:5722:57044\n",
      "76M\n",
      "9483248\n",
      "TTTTCAAACAGTATCTATGCCTGCCAAATGTGAACATATAAAAAAAAACCAGAATGTGCCATTCTGATTTAAACTG\n"
     ]
    }
   ],
   "source": [
    "# Inspect some of the fields in the AlignedSegments\n",
    "print(firstRead.qname)\n",
    "print(firstRead.cigarstring)\n",
    "print(firstRead.pos)\n",
    "print(firstRead.seq)"
   ]
  },
  {
   "cell_type": "code",
   "execution_count": 6,
   "metadata": {},
   "outputs": [
    {
     "data": {
      "text/plain": [
       "1187"
      ]
     },
     "execution_count": 6,
     "metadata": {},
     "output_type": "execute_result"
    }
   ],
   "source": [
    "# Inspect the flag field of the first read\n",
    "print(firstRead.flag)"
   ]
  },
  {
   "cell_type": "code",
   "execution_count": 22,
   "metadata": {},
   "outputs": [
    {
     "data": {
      "text/plain": [
       "[1187, 163, 99]"
      ]
     },
     "execution_count": 22,
     "metadata": {},
     "output_type": "execute_result"
    }
   ],
   "source": [
    "# Check out the flag for some reads (https://broadinstitute.github.io/picard/explain-flags.html)\n",
    "iterator = alignmentFile.fetch()\n",
    "[next(iterator).flag for _ in range(3)]\n",
    "\n",
    "# 1187\n",
    "#   read paired (0x1)\n",
    "#   read mapped in proper pair (0x2)\n",
    "#   mate reverse strand (0x20)\n",
    "#   second in pair (0x80)\n",
    "#   read is PCR or optical duplicate (0x400)\n",
    "\n",
    "# 163\n",
    "#   read paired (0x1)\n",
    "#   read mapped in proper pair (0x2)\n",
    "#   mate reverse strand (0x20)\n",
    "#   second in pair (0x80)\n",
    "\n",
    "# 99\n",
    "#   read paired (0x1)\n",
    "#   read mapped in proper pair (0x2)\n",
    "#   mate reverse strand (0x20)\n",
    "#   first in pair (0x40)"
   ]
  },
  {
   "cell_type": "code",
   "execution_count": 15,
   "metadata": {},
   "outputs": [
    {
     "name": "stdout",
     "output_type": "stream",
     "text": [
      "Total reads: 2921629\n",
      "Total reads with zero mapping quality: 126628\n",
      "Total unmapped reads: 17765\n",
      "Average mapping quality: 55.91379158681681\n",
      "Average non-zero mapping quality: 58.446975510921106\n"
     ]
    }
   ],
   "source": [
    "numberOfUnmappedReads = 0\n",
    "numberOfReads = 0\n",
    "numberOfZeroQualityReads = 0\n",
    "averageMappingQuality = 0\n",
    "averageNonZeroMappingQuality = 0\n",
    "\n",
    "for read in alignmentFile.fetch():\n",
    "    # Total number of reads\n",
    "    numberOfReads += 1\n",
    "\n",
    "    # How many unmapped reads are in the file\n",
    "    if read.is_unmapped:\n",
    "        numberOfUnmappedReads += 1\n",
    "\n",
    "    if read.mapping_quality == 0:\n",
    "        # Number of reads with non-zero quality mapping\n",
    "        numberOfZeroQualityReads += 1\n",
    "    else:\n",
    "        # Average mapping quality of non-zero quality mappings\n",
    "        averageNonZeroMappingQuality += read.mapping_quality\n",
    "\n",
    "    # Average mapping quality\n",
    "    averageMappingQuality += read.mapping_quality\n",
    "\n",
    "# Calculate the average\n",
    "averageMappingQuality /= numberOfReads\n",
    "averageNonZeroMappingQuality /= numberOfReads-numberOfZeroQualityReads\n",
    "\n",
    "print(\"Total reads: {}\".format(numberOfReads))\n",
    "print(\"Total reads with zero mapping quality: {}\".format(numberOfZeroQualityReads))\n",
    "print(\"Total unmapped reads: {}\".format(numberOfUnmappedReads))\n",
    "print(\"Average mapping quality: {}\".format(averageMappingQuality))\n",
    "print(\"Average non-zero mapping quality: {}\".format(averageNonZeroMappingQuality))"
   ]
  }
 ],
 "metadata": {
  "interpreter": {
   "hash": "31f2aee4e71d21fbe5cf8b01ff0e069b9275f58929596ceb00d14d90e3e16cd6"
  },
  "kernelspec": {
   "display_name": "Python 3.8.10 64-bit",
   "language": "python",
   "name": "python3"
  },
  "language_info": {
   "codemirror_mode": {
    "name": "ipython",
    "version": 3
   },
   "file_extension": ".py",
   "mimetype": "text/x-python",
   "name": "python",
   "nbconvert_exporter": "python",
   "pygments_lexer": "ipython3",
   "version": "3.8.10"
  },
  "orig_nbformat": 4
 },
 "nbformat": 4,
 "nbformat_minor": 2
}
